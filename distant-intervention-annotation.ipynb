{
 "metadata": {
  "name": "",
  "signature": "sha256:128b5199865fa881e31bf14090db59d18c614819a4bab8dda927e3dc2ddb6fa5"
 },
 "nbformat": 3,
 "nbformat_minor": 0,
 "worksheets": [
  {
   "cells": [
    {
     "cell_type": "code",
     "collapsed": false,
     "input": [
      "# for reasons that are entirely obscure to me, notebook does not respect my ipython paths\n",
      "# so am explicitly pointing to cochranenlp here... \n",
      "import os\n",
      "sys.path.append('/Users/byron/dev/cochrane')\n",
      "import cochranenlp\n",
      "import distant_intervention_tag"
     ],
     "language": "python",
     "metadata": {},
     "outputs": [],
     "prompt_number": 2
    },
    {
     "cell_type": "code",
     "collapsed": false,
     "input": [
      "# tag 500 abstracts\n",
      "tagged_pmids, tagged_abstracts, tokens_and_lbls, intervention_texts = distant_intervention_tag.distantly_annotate(500)"
     ],
     "language": "python",
     "metadata": {},
     "outputs": [
      {
       "output_type": "stream",
       "stream": "stdout",
       "text": [
        "{}\n"
       ]
      }
     ],
     "prompt_number": 3
    },
    {
     "cell_type": "code",
     "collapsed": false,
     "input": [
      "print intervention_texts[0]"
     ],
     "language": "python",
     "metadata": {},
     "outputs": [
      {
       "output_type": "stream",
       "stream": "stdout",
       "text": [
        "A : desmopressin orally (dosage based on titration period) B : placebo Duration 4 weeks each\n"
       ]
      }
     ],
     "prompt_number": 4
    },
    {
     "cell_type": "code",
     "collapsed": false,
     "input": [
      "print tagged_abstracts[0]"
     ],
     "language": "python",
     "metadata": {},
     "outputs": [
      {
       "output_type": "stream",
       "stream": "stdout",
       "text": [
        "[('DrugbankCaDesmopressin', 13, 13), ('DrugbankCaDesmopressin', 15, 15), ('DrugbankCaDesmopressin', 58, 58), ('DrugbankCaDesmopressin', 63, 63), ('DrugbankCaDesmopressin', 81, 81), ('DrugbankCaDesmopressin', 95, 95), ('DrugbankCaDesmopressin', 100, 100), ('DrugbankCaDesmopressin', 103, 103), ('DrugbankCaDesmopressin', 145, 145), ('DrugbankCaDesmopressin', 192, 192), ('DrugbankCaDesmopressin', 309, 309), ('placebo', 67, 67), ('placebo', 228, 228)]\n"
       ]
      }
     ],
     "prompt_number": 5
    },
    {
     "cell_type": "code",
     "collapsed": false,
     "input": [
      "# first 100 tokens/lbls of first abstract\n",
      "print tokens_and_lbls[0][:100]"
     ],
     "language": "python",
     "metadata": {},
     "outputs": [
      {
       "output_type": "stream",
       "stream": "stdout",
       "text": [
        "[('In', -1), ('recent', -1), ('years', -1), ('the', -1), ('treatment', -1), ('of', -1), ('primary', -1), ('nocturnal', -1), ('enuresis', -1), ('(', -1), ('PNE', -1), (')', -1), ('with', -1), ('desmopressin', 1), ('(', -1), ('DDAVP', 1), (')', -1), ('has', -1), ('been', -1), ('promising.', -1), ('The', -1), ('route', -1), ('of', -1), ('administration', -1), ('until', -1), ('now', -1), ('had', -1), ('been', -1), ('intranasal', -1), (',', -1), ('but', -1), ('because', -1), ('the', -1), ('tablets', -1), ('were', -1), ('introduced', -1), ('for', -1), ('the', -1), ('treatment', -1), ('of', -1), ('diabetes', -1), ('insipidus', -1), ('they', -1), ('have', -1), ('also', -1), ('become', -1), ('available', -1), ('for', -1), ('the', -1), ('treatment', -1), ('of', -1), ('PNE.', -1), ('To', -1), ('find', -1), ('the', -1), ('optimal', -1), ('dosage', -1), ('of', -1), ('desmopressin', 1), ('tablets', -1), ('and', -1), ('to', -1), ('compare', -1), ('desmopressin', 1), (\"'s\", -1), ('efficacy', -1), ('with', -1), ('placebo', 1), ('in', -1), ('a', -1), ('group', -1), ('of', -1), ('adolescents', -1), ('with', -1), ('severe', -1), ('monosymptomatic', -1), ('enuresis.', -1), ('The', -1), ('long-term', -1), ('safety', -1), ('of', -1), ('desmopressin', 1), ('was', -1), ('also', -1), ('studied', -1), ('in', -1), ('the', -1), ('same', -1), ('group', -1), ('of', -1), ('patients.', -1), ('The', -1), ('effect', -1), ('of', -1), ('oral', -1), ('desmopressin', 1), ('(', -1), ('1-deamino-8-D-arginine-vasopressin', -1), (')', -1), ('(', -1)]\n"
       ]
      }
     ],
     "prompt_number": 8
    },
    {
     "cell_type": "code",
     "collapsed": false,
     "input": [],
     "language": "python",
     "metadata": {},
     "outputs": []
    }
   ],
   "metadata": {}
  }
 ]
}